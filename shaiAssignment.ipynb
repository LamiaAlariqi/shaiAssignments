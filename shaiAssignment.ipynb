{
 "cells": [
  {
   "cell_type": "code",
   "execution_count": 90,
   "id": "32a01aef",
   "metadata": {},
   "outputs": [],
   "source": [
    "import pandas as pd\n",
    "import statistics"
   ]
  },
  {
   "cell_type": "code",
   "execution_count": 91,
   "id": "707379cf",
   "metadata": {},
   "outputs": [],
   "source": [
    "dataset=pd.read_csv('Salaries.csv')"
   ]
  },
  {
   "cell_type": "code",
   "execution_count": 92,
   "id": "79b9841b",
   "metadata": {},
   "outputs": [
    {
     "data": {
      "text/html": [
       "<div>\n",
       "<style scoped>\n",
       "    .dataframe tbody tr th:only-of-type {\n",
       "        vertical-align: middle;\n",
       "    }\n",
       "\n",
       "    .dataframe tbody tr th {\n",
       "        vertical-align: top;\n",
       "    }\n",
       "\n",
       "    .dataframe thead th {\n",
       "        text-align: right;\n",
       "    }\n",
       "</style>\n",
       "<table border=\"1\" class=\"dataframe\">\n",
       "  <thead>\n",
       "    <tr style=\"text-align: right;\">\n",
       "      <th></th>\n",
       "      <th>Id</th>\n",
       "      <th>EmployeeName</th>\n",
       "      <th>JobTitle</th>\n",
       "      <th>BasePay</th>\n",
       "      <th>OvertimePay</th>\n",
       "      <th>OtherPay</th>\n",
       "      <th>Benefits</th>\n",
       "      <th>TotalPay</th>\n",
       "      <th>TotalPayBenefits</th>\n",
       "      <th>Year</th>\n",
       "      <th>Notes</th>\n",
       "      <th>Agency</th>\n",
       "      <th>Status</th>\n",
       "    </tr>\n",
       "  </thead>\n",
       "  <tbody>\n",
       "    <tr>\n",
       "      <th>0</th>\n",
       "      <td>1</td>\n",
       "      <td>NATHANIEL FORD</td>\n",
       "      <td>GENERAL MANAGER-METROPOLITAN TRANSIT AUTHORITY</td>\n",
       "      <td>167411.18</td>\n",
       "      <td>0.00</td>\n",
       "      <td>400184.25</td>\n",
       "      <td>NaN</td>\n",
       "      <td>567595.43</td>\n",
       "      <td>567595.43</td>\n",
       "      <td>2011</td>\n",
       "      <td>NaN</td>\n",
       "      <td>San Francisco</td>\n",
       "      <td>NaN</td>\n",
       "    </tr>\n",
       "    <tr>\n",
       "      <th>1</th>\n",
       "      <td>2</td>\n",
       "      <td>GARY JIMENEZ</td>\n",
       "      <td>CAPTAIN III (POLICE DEPARTMENT)</td>\n",
       "      <td>155966.02</td>\n",
       "      <td>245131.88</td>\n",
       "      <td>137811.38</td>\n",
       "      <td>NaN</td>\n",
       "      <td>538909.28</td>\n",
       "      <td>538909.28</td>\n",
       "      <td>2011</td>\n",
       "      <td>NaN</td>\n",
       "      <td>San Francisco</td>\n",
       "      <td>NaN</td>\n",
       "    </tr>\n",
       "    <tr>\n",
       "      <th>2</th>\n",
       "      <td>3</td>\n",
       "      <td>ALBERT PARDINI</td>\n",
       "      <td>CAPTAIN III (POLICE DEPARTMENT)</td>\n",
       "      <td>212739.13</td>\n",
       "      <td>106088.18</td>\n",
       "      <td>16452.60</td>\n",
       "      <td>NaN</td>\n",
       "      <td>335279.91</td>\n",
       "      <td>335279.91</td>\n",
       "      <td>2011</td>\n",
       "      <td>NaN</td>\n",
       "      <td>San Francisco</td>\n",
       "      <td>NaN</td>\n",
       "    </tr>\n",
       "    <tr>\n",
       "      <th>3</th>\n",
       "      <td>4</td>\n",
       "      <td>CHRISTOPHER CHONG</td>\n",
       "      <td>WIRE ROPE CABLE MAINTENANCE MECHANIC</td>\n",
       "      <td>77916.00</td>\n",
       "      <td>56120.71</td>\n",
       "      <td>198306.90</td>\n",
       "      <td>NaN</td>\n",
       "      <td>332343.61</td>\n",
       "      <td>332343.61</td>\n",
       "      <td>2011</td>\n",
       "      <td>NaN</td>\n",
       "      <td>San Francisco</td>\n",
       "      <td>NaN</td>\n",
       "    </tr>\n",
       "    <tr>\n",
       "      <th>4</th>\n",
       "      <td>5</td>\n",
       "      <td>PATRICK GARDNER</td>\n",
       "      <td>DEPUTY CHIEF OF DEPARTMENT,(FIRE DEPARTMENT)</td>\n",
       "      <td>134401.60</td>\n",
       "      <td>9737.00</td>\n",
       "      <td>182234.59</td>\n",
       "      <td>NaN</td>\n",
       "      <td>326373.19</td>\n",
       "      <td>326373.19</td>\n",
       "      <td>2011</td>\n",
       "      <td>NaN</td>\n",
       "      <td>San Francisco</td>\n",
       "      <td>NaN</td>\n",
       "    </tr>\n",
       "  </tbody>\n",
       "</table>\n",
       "</div>"
      ],
      "text/plain": [
       "   Id       EmployeeName                                        JobTitle  \\\n",
       "0   1     NATHANIEL FORD  GENERAL MANAGER-METROPOLITAN TRANSIT AUTHORITY   \n",
       "1   2       GARY JIMENEZ                 CAPTAIN III (POLICE DEPARTMENT)   \n",
       "2   3     ALBERT PARDINI                 CAPTAIN III (POLICE DEPARTMENT)   \n",
       "3   4  CHRISTOPHER CHONG            WIRE ROPE CABLE MAINTENANCE MECHANIC   \n",
       "4   5    PATRICK GARDNER    DEPUTY CHIEF OF DEPARTMENT,(FIRE DEPARTMENT)   \n",
       "\n",
       "     BasePay  OvertimePay   OtherPay  Benefits   TotalPay  TotalPayBenefits  \\\n",
       "0  167411.18         0.00  400184.25       NaN  567595.43         567595.43   \n",
       "1  155966.02    245131.88  137811.38       NaN  538909.28         538909.28   \n",
       "2  212739.13    106088.18   16452.60       NaN  335279.91         335279.91   \n",
       "3   77916.00     56120.71  198306.90       NaN  332343.61         332343.61   \n",
       "4  134401.60      9737.00  182234.59       NaN  326373.19         326373.19   \n",
       "\n",
       "   Year  Notes         Agency  Status  \n",
       "0  2011    NaN  San Francisco     NaN  \n",
       "1  2011    NaN  San Francisco     NaN  \n",
       "2  2011    NaN  San Francisco     NaN  \n",
       "3  2011    NaN  San Francisco     NaN  \n",
       "4  2011    NaN  San Francisco     NaN  "
      ]
     },
     "execution_count": 92,
     "metadata": {},
     "output_type": "execute_result"
    }
   ],
   "source": [
    "dataset.head()"
   ]
  },
  {
   "cell_type": "code",
   "execution_count": 93,
   "id": "9460ebb6",
   "metadata": {},
   "outputs": [
    {
     "name": "stdout",
     "output_type": "stream",
     "text": [
      "148654\n",
      "13\n"
     ]
    }
   ],
   "source": [
    "# Identify the number of rows and columns in the dataset \n",
    "row,col=dataset.shape\n",
    "print(row)\n",
    "print(col)"
   ]
  },
  {
   "cell_type": "code",
   "execution_count": 94,
   "id": "81759e9b",
   "metadata": {},
   "outputs": [
    {
     "data": {
      "text/plain": [
       "Id                    int64\n",
       "EmployeeName         object\n",
       "JobTitle             object\n",
       "BasePay             float64\n",
       "OvertimePay         float64\n",
       "OtherPay            float64\n",
       "Benefits            float64\n",
       "TotalPay            float64\n",
       "TotalPayBenefits    float64\n",
       "Year                  int64\n",
       "Notes               float64\n",
       "Agency               object\n",
       "Status              float64\n",
       "dtype: object"
      ]
     },
     "execution_count": 94,
     "metadata": {},
     "output_type": "execute_result"
    }
   ],
   "source": [
    "#, determine the data types of each column,\n",
    "datatype=dataset.dtypes\n",
    "datatype"
   ]
  },
  {
   "cell_type": "code",
   "execution_count": 95,
   "id": "516e331b",
   "metadata": {},
   "outputs": [
    {
     "data": {
      "text/plain": [
       "Id                       0\n",
       "EmployeeName             0\n",
       "JobTitle                 0\n",
       "BasePay                609\n",
       "OvertimePay              4\n",
       "OtherPay                 4\n",
       "Benefits             36163\n",
       "TotalPay                 0\n",
       "TotalPayBenefits         0\n",
       "Year                     0\n",
       "Notes               148654\n",
       "Agency                   0\n",
       "Status              148654\n",
       "dtype: int64"
      ]
     },
     "execution_count": 95,
     "metadata": {},
     "output_type": "execute_result"
    }
   ],
   "source": [
    "dataset.isnull().sum()"
   ]
  },
  {
   "cell_type": "code",
   "execution_count": 96,
   "id": "937a9158",
   "metadata": {},
   "outputs": [],
   "source": [
    "# Handle missing data by suitable method with explain why you use it.\n",
    "\n",
    "#The answer is :Handling missing data is a crucial step in data analysis to ensure accurate and meaningful results\n",
    "#but here when i drop all the missing data from all the columns the datset will be empty \n",
    "#so i guess the best way is to delete the columns that has no info and fill the missing value of Benfits with zero\n",
    "dataset.drop(['Notes','Status'],axis=1,inplace=True)"
   ]
  },
  {
   "cell_type": "code",
   "execution_count": 97,
   "id": "e319719c",
   "metadata": {},
   "outputs": [],
   "source": [
    "dataset['Benefits'].fillna(value=0,inplace=True)"
   ]
  },
  {
   "cell_type": "code",
   "execution_count": 98,
   "id": "8b67a592",
   "metadata": {},
   "outputs": [
    {
     "data": {
      "text/plain": [
       "Id                    0\n",
       "EmployeeName          0\n",
       "JobTitle              0\n",
       "BasePay             609\n",
       "OvertimePay           4\n",
       "OtherPay              4\n",
       "Benefits              0\n",
       "TotalPay              0\n",
       "TotalPayBenefits      0\n",
       "Year                  0\n",
       "Agency                0\n",
       "dtype: int64"
      ]
     },
     "execution_count": 98,
     "metadata": {},
     "output_type": "execute_result"
    }
   ],
   "source": [
    "dataset.isnull().sum()"
   ]
  },
  {
   "cell_type": "code",
   "execution_count": 99,
   "id": "861c01df",
   "metadata": {},
   "outputs": [
    {
     "data": {
      "text/html": [
       "<div>\n",
       "<style scoped>\n",
       "    .dataframe tbody tr th:only-of-type {\n",
       "        vertical-align: middle;\n",
       "    }\n",
       "\n",
       "    .dataframe tbody tr th {\n",
       "        vertical-align: top;\n",
       "    }\n",
       "\n",
       "    .dataframe thead th {\n",
       "        text-align: right;\n",
       "    }\n",
       "</style>\n",
       "<table border=\"1\" class=\"dataframe\">\n",
       "  <thead>\n",
       "    <tr style=\"text-align: right;\">\n",
       "      <th></th>\n",
       "      <th>Id</th>\n",
       "      <th>EmployeeName</th>\n",
       "      <th>JobTitle</th>\n",
       "      <th>BasePay</th>\n",
       "      <th>OvertimePay</th>\n",
       "      <th>OtherPay</th>\n",
       "      <th>Benefits</th>\n",
       "      <th>TotalPay</th>\n",
       "      <th>TotalPayBenefits</th>\n",
       "      <th>Year</th>\n",
       "      <th>Agency</th>\n",
       "    </tr>\n",
       "  </thead>\n",
       "  <tbody>\n",
       "    <tr>\n",
       "      <th>0</th>\n",
       "      <td>1</td>\n",
       "      <td>NATHANIEL FORD</td>\n",
       "      <td>GENERAL MANAGER-METROPOLITAN TRANSIT AUTHORITY</td>\n",
       "      <td>167411.18</td>\n",
       "      <td>0.00</td>\n",
       "      <td>400184.25</td>\n",
       "      <td>0.0</td>\n",
       "      <td>567595.43</td>\n",
       "      <td>567595.43</td>\n",
       "      <td>2011</td>\n",
       "      <td>San Francisco</td>\n",
       "    </tr>\n",
       "    <tr>\n",
       "      <th>1</th>\n",
       "      <td>2</td>\n",
       "      <td>GARY JIMENEZ</td>\n",
       "      <td>CAPTAIN III (POLICE DEPARTMENT)</td>\n",
       "      <td>155966.02</td>\n",
       "      <td>245131.88</td>\n",
       "      <td>137811.38</td>\n",
       "      <td>0.0</td>\n",
       "      <td>538909.28</td>\n",
       "      <td>538909.28</td>\n",
       "      <td>2011</td>\n",
       "      <td>San Francisco</td>\n",
       "    </tr>\n",
       "    <tr>\n",
       "      <th>2</th>\n",
       "      <td>3</td>\n",
       "      <td>ALBERT PARDINI</td>\n",
       "      <td>CAPTAIN III (POLICE DEPARTMENT)</td>\n",
       "      <td>212739.13</td>\n",
       "      <td>106088.18</td>\n",
       "      <td>16452.60</td>\n",
       "      <td>0.0</td>\n",
       "      <td>335279.91</td>\n",
       "      <td>335279.91</td>\n",
       "      <td>2011</td>\n",
       "      <td>San Francisco</td>\n",
       "    </tr>\n",
       "    <tr>\n",
       "      <th>3</th>\n",
       "      <td>4</td>\n",
       "      <td>CHRISTOPHER CHONG</td>\n",
       "      <td>WIRE ROPE CABLE MAINTENANCE MECHANIC</td>\n",
       "      <td>77916.00</td>\n",
       "      <td>56120.71</td>\n",
       "      <td>198306.90</td>\n",
       "      <td>0.0</td>\n",
       "      <td>332343.61</td>\n",
       "      <td>332343.61</td>\n",
       "      <td>2011</td>\n",
       "      <td>San Francisco</td>\n",
       "    </tr>\n",
       "    <tr>\n",
       "      <th>4</th>\n",
       "      <td>5</td>\n",
       "      <td>PATRICK GARDNER</td>\n",
       "      <td>DEPUTY CHIEF OF DEPARTMENT,(FIRE DEPARTMENT)</td>\n",
       "      <td>134401.60</td>\n",
       "      <td>9737.00</td>\n",
       "      <td>182234.59</td>\n",
       "      <td>0.0</td>\n",
       "      <td>326373.19</td>\n",
       "      <td>326373.19</td>\n",
       "      <td>2011</td>\n",
       "      <td>San Francisco</td>\n",
       "    </tr>\n",
       "    <tr>\n",
       "      <th>...</th>\n",
       "      <td>...</td>\n",
       "      <td>...</td>\n",
       "      <td>...</td>\n",
       "      <td>...</td>\n",
       "      <td>...</td>\n",
       "      <td>...</td>\n",
       "      <td>...</td>\n",
       "      <td>...</td>\n",
       "      <td>...</td>\n",
       "      <td>...</td>\n",
       "      <td>...</td>\n",
       "    </tr>\n",
       "    <tr>\n",
       "      <th>148645</th>\n",
       "      <td>148646</td>\n",
       "      <td>Carolyn A Wilson</td>\n",
       "      <td>Human Services Technician</td>\n",
       "      <td>0.00</td>\n",
       "      <td>0.00</td>\n",
       "      <td>0.00</td>\n",
       "      <td>0.0</td>\n",
       "      <td>0.00</td>\n",
       "      <td>0.00</td>\n",
       "      <td>2014</td>\n",
       "      <td>San Francisco</td>\n",
       "    </tr>\n",
       "    <tr>\n",
       "      <th>148647</th>\n",
       "      <td>148648</td>\n",
       "      <td>Joann Anderson</td>\n",
       "      <td>Communications Dispatcher 2</td>\n",
       "      <td>0.00</td>\n",
       "      <td>0.00</td>\n",
       "      <td>0.00</td>\n",
       "      <td>0.0</td>\n",
       "      <td>0.00</td>\n",
       "      <td>0.00</td>\n",
       "      <td>2014</td>\n",
       "      <td>San Francisco</td>\n",
       "    </tr>\n",
       "    <tr>\n",
       "      <th>148648</th>\n",
       "      <td>148649</td>\n",
       "      <td>Leon Walker</td>\n",
       "      <td>Custodian</td>\n",
       "      <td>0.00</td>\n",
       "      <td>0.00</td>\n",
       "      <td>0.00</td>\n",
       "      <td>0.0</td>\n",
       "      <td>0.00</td>\n",
       "      <td>0.00</td>\n",
       "      <td>2014</td>\n",
       "      <td>San Francisco</td>\n",
       "    </tr>\n",
       "    <tr>\n",
       "      <th>148649</th>\n",
       "      <td>148650</td>\n",
       "      <td>Roy I Tillery</td>\n",
       "      <td>Custodian</td>\n",
       "      <td>0.00</td>\n",
       "      <td>0.00</td>\n",
       "      <td>0.00</td>\n",
       "      <td>0.0</td>\n",
       "      <td>0.00</td>\n",
       "      <td>0.00</td>\n",
       "      <td>2014</td>\n",
       "      <td>San Francisco</td>\n",
       "    </tr>\n",
       "    <tr>\n",
       "      <th>148653</th>\n",
       "      <td>148654</td>\n",
       "      <td>Joe Lopez</td>\n",
       "      <td>Counselor, Log Cabin Ranch</td>\n",
       "      <td>0.00</td>\n",
       "      <td>0.00</td>\n",
       "      <td>-618.13</td>\n",
       "      <td>0.0</td>\n",
       "      <td>-618.13</td>\n",
       "      <td>-618.13</td>\n",
       "      <td>2014</td>\n",
       "      <td>San Francisco</td>\n",
       "    </tr>\n",
       "  </tbody>\n",
       "</table>\n",
       "<p>148045 rows × 11 columns</p>\n",
       "</div>"
      ],
      "text/plain": [
       "            Id       EmployeeName  \\\n",
       "0            1     NATHANIEL FORD   \n",
       "1            2       GARY JIMENEZ   \n",
       "2            3     ALBERT PARDINI   \n",
       "3            4  CHRISTOPHER CHONG   \n",
       "4            5    PATRICK GARDNER   \n",
       "...        ...                ...   \n",
       "148645  148646   Carolyn A Wilson   \n",
       "148647  148648     Joann Anderson   \n",
       "148648  148649        Leon Walker   \n",
       "148649  148650      Roy I Tillery   \n",
       "148653  148654          Joe Lopez   \n",
       "\n",
       "                                              JobTitle    BasePay  \\\n",
       "0       GENERAL MANAGER-METROPOLITAN TRANSIT AUTHORITY  167411.18   \n",
       "1                      CAPTAIN III (POLICE DEPARTMENT)  155966.02   \n",
       "2                      CAPTAIN III (POLICE DEPARTMENT)  212739.13   \n",
       "3                 WIRE ROPE CABLE MAINTENANCE MECHANIC   77916.00   \n",
       "4         DEPUTY CHIEF OF DEPARTMENT,(FIRE DEPARTMENT)  134401.60   \n",
       "...                                                ...        ...   \n",
       "148645                       Human Services Technician       0.00   \n",
       "148647                     Communications Dispatcher 2       0.00   \n",
       "148648                                       Custodian       0.00   \n",
       "148649                                       Custodian       0.00   \n",
       "148653                      Counselor, Log Cabin Ranch       0.00   \n",
       "\n",
       "        OvertimePay   OtherPay  Benefits   TotalPay  TotalPayBenefits  Year  \\\n",
       "0              0.00  400184.25       0.0  567595.43         567595.43  2011   \n",
       "1         245131.88  137811.38       0.0  538909.28         538909.28  2011   \n",
       "2         106088.18   16452.60       0.0  335279.91         335279.91  2011   \n",
       "3          56120.71  198306.90       0.0  332343.61         332343.61  2011   \n",
       "4           9737.00  182234.59       0.0  326373.19         326373.19  2011   \n",
       "...             ...        ...       ...        ...               ...   ...   \n",
       "148645         0.00       0.00       0.0       0.00              0.00  2014   \n",
       "148647         0.00       0.00       0.0       0.00              0.00  2014   \n",
       "148648         0.00       0.00       0.0       0.00              0.00  2014   \n",
       "148649         0.00       0.00       0.0       0.00              0.00  2014   \n",
       "148653         0.00    -618.13       0.0    -618.13           -618.13  2014   \n",
       "\n",
       "               Agency  \n",
       "0       San Francisco  \n",
       "1       San Francisco  \n",
       "2       San Francisco  \n",
       "3       San Francisco  \n",
       "4       San Francisco  \n",
       "...               ...  \n",
       "148645  San Francisco  \n",
       "148647  San Francisco  \n",
       "148648  San Francisco  \n",
       "148649  San Francisco  \n",
       "148653  San Francisco  \n",
       "\n",
       "[148045 rows x 11 columns]"
      ]
     },
     "execution_count": 99,
     "metadata": {},
     "output_type": "execute_result"
    }
   ],
   "source": [
    "dataset.dropna()"
   ]
  },
  {
   "cell_type": "code",
   "execution_count": 80,
   "id": "9faf2167",
   "metadata": {},
   "outputs": [
    {
     "data": {
      "text/plain": [
       "Index(['Id', 'EmployeeName', 'JobTitle', 'BasePay', 'OvertimePay', 'OtherPay',\n",
       "       'Benefits', 'TotalPay', 'TotalPayBenefits', 'Year', 'Agency'],\n",
       "      dtype='object')"
      ]
     },
     "execution_count": 80,
     "metadata": {},
     "output_type": "execute_result"
    }
   ],
   "source": [
    "dataset.columns"
   ]
  },
  {
   "cell_type": "code",
   "execution_count": 100,
   "id": "7215951c",
   "metadata": {},
   "outputs": [
    {
     "name": "stdout",
     "output_type": "stream",
     "text": [
      "mean= 74768.32197169265\n",
      "median= 71426.60999999999\n",
      "minium= -618.13\n",
      "maximun= 567595.43\n",
      "mode= 0.0\n",
      "the range of salary= 568213.56\n",
      "the standard deviation= 50517.00527394987\n"
     ]
    }
   ],
   "source": [
    "#Calculate basic statistics mean, median, mode, minimum, and maximum salary, determine the range of salaries, and find the standard deviation.\n",
    "mean=statistics.mean(dataset.TotalPay)\n",
    "print('mean=',mean)\n",
    "median=statistics.median(dataset.TotalPay)\n",
    "print('median=',median)\n",
    "minimun=min(dataset.TotalPay)\n",
    "print('minium=',minimun)\n",
    "maximun=max(dataset.TotalPay)\n",
    "print('maximun=',maximun)\n",
    "mode=statistics.mode(dataset.TotalPay)\n",
    "print('mode=',mode)\n",
    "salary_range=maximun-minimun\n",
    "print(\"the range of salary=\",salary_range)\n",
    "stdev=statistics.stdev(dataset.TotalPay)\n",
    "print(\"the standard deviation=\",stdev)"
   ]
  },
  {
   "cell_type": "code",
   "execution_count": 101,
   "id": "aa378ccb",
   "metadata": {},
   "outputs": [
    {
     "data": {
      "image/png": "[encoded data removed]",
      "text/plain": [
       "<Figure size 432x288 with 1 Axes>"
      ]
     },
     "metadata": {
      "needs_background": "light"
     },
     "output_type": "display_data"
    }
   ],
   "source": [
    "#Create histograms or bar charts to visualize the distribution of salaries\n",
    "import matplotlib.pyplot as plt\n",
    "plt.hist(dataset['TotalPay'], bins=10, edgecolor='black')\n",
    "plt.title('Distribution of Salaries')\n",
    "plt.xlabel('Salary')\n",
    "plt.ylabel('Frequency')\n",
    "plt.show()"
   ]
  },
  {
   "cell_type": "code",
   "execution_count": 134,
   "id": "51e0ed8e",
   "metadata": {},
   "outputs": [
    {
     "data": {
      "text/plain": [
       "array(['GENERAL MANAGER-METROPOLITAN TRANSIT AUTHORITY',\n",
       "       'CAPTAIN III (POLICE DEPARTMENT)',\n",
       "       'WIRE ROPE CABLE MAINTENANCE MECHANIC',\n",
       "       'DEPUTY CHIEF OF DEPARTMENT,(FIRE DEPARTMENT)',\n",
       "       'ASSISTANT DEPUTY CHIEF II', 'BATTALION CHIEF, (FIRE DEPARTMENT)',\n",
       "       'DEPUTY DIRECTOR OF INVESTMENTS',\n",
       "       'CHIEF OF DEPARTMENT, (FIRE DEPARTMENT)',\n",
       "       'ASSISTANT CHIEF OF DEPARTMENT, (FIRE DEPARTMENT)',\n",
       "       'EXECUTIVE CONTRACT EMPLOYEE', 'DEPARTMENT HEAD V',\n",
       "       'COMMANDER III, (POLICE DEPARTMENT)',\n",
       "       'CAPTAIN, EMERGENCYCY MEDICAL SERVICES',\n",
       "       'ASSISTANT MEDICAL EXAMINER'], dtype=object)"
      ]
     },
     "execution_count": 134,
     "metadata": {},
     "output_type": "execute_result"
    }
   ],
   "source": [
    "#السبب في تحديد عدد الصفوف ان الرسمة لم تكن واضحة ابدا عند استخدام جميع بيانات انواع الوظائف \n",
    "job_titles=dataset['JobTitle'].head(20)\n",
    "department_count=job_titles.value_counts()\n",
    "department_title=job_titles.unique()\n",
    "department_title"
   ]
  },
  {
   "cell_type": "code",
   "execution_count": 135,
   "id": "c0ef8269",
   "metadata": {},
   "outputs": [
    {
     "data": {
      "image/png": "[encoded data removed]",
      "text/plain": [
       "<Figure size 432x288 with 1 Axes>"
      ]
     },
     "metadata": {},
     "output_type": "display_data"
    }
   ],
   "source": [
    "#se pie charts to represent the proportion of employees in different departments.\n",
    "plt.pie(department_count, labels=department_title)\n",
    "plt.title('Proportion of Employees in Different Departments')\n",
    "plt.show()"
   ]
  },
  {
   "cell_type": "code",
   "execution_count": 139,
   "id": "91e5cc54",
   "metadata": {},
   "outputs": [
    {
     "name": "stdout",
     "output_type": "stream",
     "text": [
      "the statical\n",
      "                                                           Id       BasePay  \\\n",
      "JobTitle                                                                      \n",
      "ACCOUNT CLERK                                    25734.819277  43300.806506   \n",
      "ACCOUNTANT                                       24159.200000  46643.172000   \n",
      "ACCOUNTANT INTERN                                28128.833333  28732.663958   \n",
      "ACPO,JuvP, Juv Prob (SFERS)                     135284.000000  62290.780000   \n",
      "ACUPUNCTURIST                                    18379.000000  66374.400000   \n",
      "...                                                       ...           ...   \n",
      "X-RAY LABORATORY AIDE                            22502.076923  47664.773077   \n",
      "X-Ray Laboratory Aide                            98890.620000  46086.387100   \n",
      "YOUTH COMMISSION ADVISOR, BOARD OF SUPERVISORS   23392.000000  52609.910000   \n",
      "Youth Comm Advisor                               99677.750000  39077.957500   \n",
      "ZOO CURATOR                                      18779.000000  43148.000000   \n",
      "\n",
      "                                                OvertimePay      OtherPay  \\\n",
      "JobTitle                                                                    \n",
      "ACCOUNT CLERK                                    373.200843    361.656988   \n",
      "ACCOUNTANT                                         0.000000    786.096000   \n",
      "ACCOUNTANT INTERN                                 24.430625    274.648333   \n",
      "ACPO,JuvP, Juv Prob (SFERS)                        0.000000      0.000000   \n",
      "ACUPUNCTURIST                                      0.000000   1220.000000   \n",
      "...                                                     ...           ...   \n",
      "X-RAY LABORATORY AIDE                           3571.223462   1469.883846   \n",
      "X-Ray Laboratory Aide                           3483.767100   1253.788500   \n",
      "YOUTH COMMISSION ADVISOR, BOARD OF SUPERVISORS     0.000000   1022.960000   \n",
      "Youth Comm Advisor                                 0.000000   2336.350000   \n",
      "ZOO CURATOR                                        0.000000  23538.560000   \n",
      "\n",
      "                                                  Benefits      TotalPay  \\\n",
      "JobTitle                                                                   \n",
      "ACCOUNT CLERK                                       0.0000  44035.664337   \n",
      "ACCOUNTANT                                          0.0000  47429.268000   \n",
      "ACCOUNTANT INTERN                                   0.0000  29031.742917   \n",
      "ACPO,JuvP, Juv Prob (SFERS)                     17975.5900  62290.780000   \n",
      "ACUPUNCTURIST                                       0.0000  67594.400000   \n",
      "...                                                    ...           ...   \n",
      "X-RAY LABORATORY AIDE                               0.0000  52705.880385   \n",
      "X-Ray Laboratory Aide                           18697.1805  50823.942700   \n",
      "YOUTH COMMISSION ADVISOR, BOARD OF SUPERVISORS      0.0000  53632.870000   \n",
      "Youth Comm Advisor                              18704.2425  41414.307500   \n",
      "ZOO CURATOR                                         0.0000  66686.560000   \n",
      "\n",
      "                                                TotalPayBenefits     Year  \n",
      "JobTitle                                                                   \n",
      "ACCOUNT CLERK                                       44035.664337  2011.00  \n",
      "ACCOUNTANT                                          47429.268000  2011.00  \n",
      "ACCOUNTANT INTERN                                   29031.742917  2011.00  \n",
      "ACPO,JuvP, Juv Prob (SFERS)                         80266.370000  2014.00  \n",
      "ACUPUNCTURIST                                       67594.400000  2011.00  \n",
      "...                                                          ...      ...  \n",
      "X-RAY LABORATORY AIDE                               52705.880385  2011.00  \n",
      "X-Ray Laboratory Aide                               69521.123200  2013.04  \n",
      "YOUTH COMMISSION ADVISOR, BOARD OF SUPERVISORS      53632.870000  2011.00  \n",
      "Youth Comm Advisor                                  60118.550000  2013.00  \n",
      "ZOO CURATOR                                         66686.560000  2011.00  \n",
      "\n",
      "[2159 rows x 8 columns]\n"
     ]
    }
   ],
   "source": [
    "#Group the data by one or more columns and calculate summary statistics for each group.\n",
    "grouped_data = dataset.groupby('JobTitle').mean()\n",
    "print(\"the statical\")\n",
    "print(grouped_data)\n"
   ]
  },
  {
   "cell_type": "code",
   "execution_count": 140,
   "id": "1286e298",
   "metadata": {},
   "outputs": [
    {
     "name": "stdout",
     "output_type": "stream",
     "text": [
      "JobTitle\n",
      "ACCOUNT CLERK                                     44035.664337\n",
      "ACCOUNTANT                                        47429.268000\n",
      "ACCOUNTANT INTERN                                 29031.742917\n",
      "ACPO,JuvP, Juv Prob (SFERS)                       62290.780000\n",
      "ACUPUNCTURIST                                     67594.400000\n",
      "                                                      ...     \n",
      "X-RAY LABORATORY AIDE                             52705.880385\n",
      "X-Ray Laboratory Aide                             50823.942700\n",
      "YOUTH COMMISSION ADVISOR, BOARD OF SUPERVISORS    53632.870000\n",
      "Youth Comm Advisor                                41414.307500\n",
      "ZOO CURATOR                                       66686.560000\n",
      "Name: TotalPay, Length: 2159, dtype: float64\n"
     ]
    }
   ],
   "source": [
    "#and compare the average salaries across different groups.\n",
    "average_salaries = grouped_data['TotalPay']\n",
    "print(average_salaries)"
   ]
  },
  {
   "cell_type": "code",
   "execution_count": 148,
   "id": "c826b22a",
   "metadata": {},
   "outputs": [
    {
     "name": "stdout",
     "output_type": "stream",
     "text": [
      "Correlation coefficient: 0.9544936474296035\n"
     ]
    },
    {
     "data": {
      "image/png": "[encoded data removed]",
      "text/plain": [
       "<Figure size 432x288 with 1 Axes>"
      ]
     },
     "metadata": {
      "needs_background": "light"
     },
     "output_type": "display_data"
    }
   ],
   "source": [
    "correlation = dataset['TotalPay'].corr(dataset['BasePay'])\n",
    "\n",
    "# Print the correlation coefficient\n",
    "print(\"Correlation coefficient:\", correlation)\n",
    "\n",
    "# Create a plot\n",
    "plt.scatter(dataset['BasePay'], dataset['TotalPay'])\n",
    "plt.xlabel('BasePay')\n",
    "plt.ylabel('Total Pay')\n",
    "plt.title('Relationship between BasePay  Column and Total Pay')\n",
    "plt.show()"
   ]
  },
  {
   "cell_type": "code",
   "execution_count": 142,
   "id": "72228bea",
   "metadata": {},
   "outputs": [
    {
     "name": "stdout",
     "output_type": "stream",
     "text": [
      "The average base pay across all employees was $ 66325.44884050643\n",
      "The minimum base pay was $ -166.01\n",
      "The maximum base pay was $ 319275.01\n"
     ]
    }
   ],
   "source": [
    "average_base_pay = dataset['BasePay'].mean()\n",
    "minimum_base_pay = dataset['BasePay'].min()\n",
    "maximum_base_pay = dataset['BasePay'].max()\n",
    "\n",
    "# طباعة النتائج\n",
    "print(\"The average base pay across all employees was $\", average_base_pay)\n",
    "print(\"The minimum base pay was $\", minimum_base_pay)\n",
    "print(\"The maximum base pay was $\", maximum_base_pay)"
   ]
  },
  {
   "cell_type": "code",
   "execution_count": 144,
   "id": "99aa5a42",
   "metadata": {},
   "outputs": [
    {
     "name": "stdout",
     "output_type": "stream",
     "text": [
      "The average OtherPay across all employees was $ 3648.7672968046095\n",
      "The minimum OtherPay was $ -7058.59\n",
      "The maximum OtherPay was $ 400184.25\n"
     ]
    }
   ],
   "source": [
    "average_base_pay = dataset['OtherPay'].mean()\n",
    "minimum_base_pay = dataset['OtherPay'].min()\n",
    "maximum_base_pay = dataset['OtherPay'].max()\n",
    "\n",
    "# طباعة النتائج\n",
    "print(\"The average OtherPay across all employees was $\", average_base_pay)\n",
    "print(\"The minimum OtherPay was $\", minimum_base_pay)\n",
    "print(\"The maximum OtherPay was $\", maximum_base_pay)"
   ]
  },
  {
   "cell_type": "code",
   "execution_count": 143,
   "id": "9b51e656",
   "metadata": {},
   "outputs": [
    {
     "name": "stdout",
     "output_type": "stream",
     "text": [
      "The average OvertimePay across all employees was $ 5066.059886444622\n",
      "The minimum OvertimePay was $ -0.01\n",
      "The maximum OvertimePay was $ 245131.88\n"
     ]
    }
   ],
   "source": [
    "average_base_pay = dataset['OvertimePay'].mean()\n",
    "minimum_base_pay = dataset['OvertimePay'].min()\n",
    "maximum_base_pay = dataset['OvertimePay'].max()\n",
    "\n",
    "# طباعة النتائج\n",
    "print(\"The average OvertimePay across all employees was $\", average_base_pay)\n",
    "print(\"The minimum OvertimePay was $\", minimum_base_pay)\n",
    "print(\"The maximum OvertimePay was $\", maximum_base_pay)"
   ]
  },
  {
   "cell_type": "code",
   "execution_count": 147,
   "id": "e2aca815",
   "metadata": {},
   "outputs": [
    {
     "name": "stdout",
     "output_type": "stream",
     "text": [
      "The average Benefits across all employees was $ 18924.232838874363\n",
      "The minimum Benefits was $ -33.89\n",
      "The maximum Benefits was $ 96570.66\n"
     ]
    }
   ],
   "source": [
    "average_base_pay = dataset['Benefits'].mean()\n",
    "minimum_base_pay = dataset['Benefits'].min()\n",
    "maximum_base_pay = dataset['Benefits'].max()\n",
    "\n",
    "# طباعة النتائج\n",
    "print(\"The average Benefits across all employees was $\", average_base_pay)\n",
    "print(\"The minimum Benefits was $\", minimum_base_pay)\n",
    "print(\"The maximum Benefits was $\", maximum_base_pay)"
   ]
  },
  {
   "cell_type": "code",
   "execution_count": 146,
   "id": "e5b9d8dc",
   "metadata": {},
   "outputs": [
    {
     "name": "stdout",
     "output_type": "stream",
     "text": [
      "The average TotalPay across all employees was $ 74768.321971703\n",
      "The minimum TotalPay was $ -618.13\n",
      "The maximum TotalPay was $ 567595.43\n"
     ]
    }
   ],
   "source": [
    "average_base_pay = dataset['TotalPay'].mean()\n",
    "minimum_base_pay = dataset['TotalPay'].min()\n",
    "maximum_base_pay = dataset['TotalPay'].max()\n",
    "\n",
    "# طباعة النتائج\n",
    "print(\"The average TotalPay across all employees was $\", average_base_pay)\n",
    "print(\"The minimum TotalPay was $\", minimum_base_pay)\n",
    "print(\"The maximum TotalPay was $\", maximum_base_pay)"
   ]
  },
  {
   "cell_type": "code",
   "execution_count": null,
   "id": "66bcf42f",
   "metadata": {},
   "outputs": [],
   "source": []
  }
 ],
 "metadata": {
  "kernelspec": {
   "display_name": "Python 3 (ipykernel)",
   "language": "python",
   "name": "python3"
  },
  "language_info": {
   "codemirror_mode": {
    "name": "ipython",
    "version": 3
   },
   "file_extension": ".py",
   "mimetype": "text/x-python",
   "name": "python",
   "nbconvert_exporter": "python",
   "pygments_lexer": "ipython3",
   "version": "3.9.12"
  }
 },
 "nbformat": 4,
 "nbformat_minor": 5
}
